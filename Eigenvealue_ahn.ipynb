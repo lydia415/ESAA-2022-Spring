{
 "cells": [
  {
   "cell_type": "markdown",
   "metadata": {
    "id": "ISkJvIpnm7hQ"
   },
   "source": [
    "# Python Lab II: Eigenvalues and Eigenvectors"
   ]
  },
  {
   "cell_type": "code",
   "execution_count": 3,
   "metadata": {
    "executionInfo": {
     "elapsed": 2573,
     "status": "ok",
     "timestamp": 1620779794687,
     "user": {
      "displayName": "﻿안재윤(전임교원/통계학과)",
      "photoUrl": "",
      "userId": "02619146530199681853"
     },
     "user_tz": -540
    },
    "id": "ZjQgVe_Im7hX"
   },
   "outputs": [],
   "source": [
    "import numpy as np\n",
    "import scipy\n",
    "from scipy import linalg\n"
   ]
  },
  {
   "cell_type": "code",
   "execution_count": 4,
   "metadata": {
    "colab": {
     "base_uri": "https://localhost:8080/"
    },
    "executionInfo": {
     "elapsed": 2544,
     "status": "ok",
     "timestamp": 1620779794688,
     "user": {
      "displayName": "﻿안재윤(전임교원/통계학과)",
      "photoUrl": "",
      "userId": "02619146530199681853"
     },
     "user_tz": -540
    },
    "id": "cZ6LVgxEjYRd",
    "outputId": "1bed017f-7ffe-4da1-b0a6-8cb5509b595e"
   },
   "outputs": [
    {
     "data": {
      "text/plain": [
       "(array([3., 1.]),\n",
       " array([[ 0.70710678,  0.70710678],\n",
       "        [-0.70710678,  0.70710678]]))"
      ]
     },
     "execution_count": 4,
     "metadata": {},
     "output_type": "execute_result"
    }
   ],
   "source": [
    "A= np.array([[2,-1],[-1,2]])\n",
    "\n",
    "np.linalg.eig(A)"
   ]
  },
  {
   "cell_type": "code",
   "execution_count": 6,
   "metadata": {},
   "outputs": [
    {
     "data": {
      "text/plain": [
       "(2, 1)"
      ]
     },
     "execution_count": 6,
     "metadata": {},
     "output_type": "execute_result"
    }
   ],
   "source": [
    "A[:, 0:1].shape"
   ]
  },
  {
   "cell_type": "code",
   "execution_count": 7,
   "metadata": {},
   "outputs": [
    {
     "data": {
      "text/plain": [
       "array([[ 2],\n",
       "       [-1]])"
      ]
     },
     "execution_count": 7,
     "metadata": {},
     "output_type": "execute_result"
    }
   ],
   "source": [
    "A[:, 0:1] #matrix 형태임"
   ]
  },
  {
   "cell_type": "code",
   "execution_count": 9,
   "metadata": {
    "colab": {
     "base_uri": "https://localhost:8080/"
    },
    "executionInfo": {
     "elapsed": 2537,
     "status": "ok",
     "timestamp": 1620779794689,
     "user": {
      "displayName": "﻿안재윤(전임교원/통계학과)",
      "photoUrl": "",
      "userId": "02619146530199681853"
     },
     "user_tz": -540
    },
    "id": "lI2ow8cgm7hZ",
    "outputId": "c7e1b122-3c1c-4bee-a43f-69d948b608a9"
   },
   "outputs": [
    {
     "data": {
      "text/plain": [
       "array([3., 1.])"
      ]
     },
     "execution_count": 9,
     "metadata": {},
     "output_type": "execute_result"
    }
   ],
   "source": [
    "eigenvalue, eigenvector = np.linalg.eig(A)\n",
    "eigenvalue"
   ]
  },
  {
   "cell_type": "code",
   "execution_count": 10,
   "metadata": {},
   "outputs": [
    {
     "data": {
      "text/plain": [
       "array([[ 0.70710678,  0.70710678],\n",
       "       [-0.70710678,  0.70710678]])"
      ]
     },
     "execution_count": 10,
     "metadata": {},
     "output_type": "execute_result"
    }
   ],
   "source": [
    "eigenvector #기본꼴일뿐, 변형 가능"
   ]
  },
  {
   "cell_type": "code",
   "execution_count": 11,
   "metadata": {},
   "outputs": [
    {
     "data": {
      "text/plain": [
       "array([3., 1.])"
      ]
     },
     "execution_count": 11,
     "metadata": {},
     "output_type": "execute_result"
    }
   ],
   "source": [
    "np.linalg.eig(A)[0]"
   ]
  },
  {
   "cell_type": "code",
   "execution_count": 12,
   "metadata": {},
   "outputs": [
    {
     "data": {
      "text/plain": [
       "array([[ 0.70710678,  0.70710678],\n",
       "       [-0.70710678,  0.70710678]])"
      ]
     },
     "execution_count": 12,
     "metadata": {},
     "output_type": "execute_result"
    }
   ],
   "source": [
    "np.linalg.eig(A)[1]"
   ]
  },
  {
   "cell_type": "code",
   "execution_count": 13,
   "metadata": {
    "executionInfo": {
     "elapsed": 2536,
     "status": "ok",
     "timestamp": 1620779794690,
     "user": {
      "displayName": "﻿안재윤(전임교원/통계학과)",
      "photoUrl": "",
      "userId": "02619146530199681853"
     },
     "user_tz": -540
    },
    "id": "_cGLWHBmm7hZ"
   },
   "outputs": [],
   "source": [
    "v1, v2 = eigenvector[:, 0], eigenvector[:, 1]"
   ]
  },
  {
   "cell_type": "code",
   "execution_count": 15,
   "metadata": {},
   "outputs": [
    {
     "data": {
      "text/plain": [
       "array([ 0.70710678, -0.70710678])"
      ]
     },
     "execution_count": 15,
     "metadata": {},
     "output_type": "execute_result"
    }
   ],
   "source": [
    "v1"
   ]
  },
  {
   "cell_type": "code",
   "execution_count": 18,
   "metadata": {},
   "outputs": [],
   "source": [
    "v1, v2 = eigenvector[:, 0:], eigenvector[:, 1:] #grammar 달라..."
   ]
  },
  {
   "cell_type": "code",
   "execution_count": 19,
   "metadata": {},
   "outputs": [
    {
     "data": {
      "text/plain": [
       "array([[ 0.70710678,  0.70710678],\n",
       "       [-0.70710678,  0.70710678]])"
      ]
     },
     "execution_count": 19,
     "metadata": {},
     "output_type": "execute_result"
    }
   ],
   "source": [
    "v1"
   ]
  },
  {
   "cell_type": "code",
   "execution_count": 5,
   "metadata": {
    "colab": {
     "base_uri": "https://localhost:8080/"
    },
    "executionInfo": {
     "elapsed": 2532,
     "status": "ok",
     "timestamp": 1620779794691,
     "user": {
      "displayName": "﻿안재윤(전임교원/통계학과)",
      "photoUrl": "",
      "userId": "02619146530199681853"
     },
     "user_tz": -540
    },
    "id": "F-ghHhzNkcCM",
    "outputId": "31c60d3c-b6d0-4050-e6da-c7e7172a283e"
   },
   "outputs": [
    {
     "name": "stdout",
     "output_type": "stream",
     "text": [
      "[ 2.12132034 -2.12132034] [ 2.12132034 -2.12132034]\n",
      "[0.70710678 0.70710678] [2.12132034 2.12132034]\n"
     ]
    }
   ],
   "source": [
    "print(A @ v1, eigenvalue[0]*v1)\n",
    "print(A @ v2, eigenvalue[0]*v2)\n",
    "#A*x=lambda*x 확인"
   ]
  },
  {
   "cell_type": "markdown",
   "metadata": {
    "id": "tq5300oBwCgj"
   },
   "source": [
    "Example> You are given the following matrix\n",
    "\n",
    "$A=\\left(\n",
    "  \\begin{array}{cc}\n",
    "    2 & 3 \\\\\n",
    "    3 & -6 \\\\\n",
    "  \\end{array}\n",
    "\\right)$     and    $B=\\left(\n",
    "  \\begin{array}{ccc}\n",
    "    5 & 2 & 0 \\\\\n",
    "    2 & 5 & 0 \\\\\n",
    "    -3 & 4 & 6\n",
    "  \\end{array}\n",
    "\\right)$\n",
    "\n",
    "Calculate the eigenvalues and eigenvectors of each matrix, and confirm that they are trully eigenvalues and eigenvectors by calculating\n",
    "\n",
    "$A v_1 = \\lambda_1 v_1$ and $A v_2 = \\lambda_2 v_2$\n"
   ]
  },
  {
   "cell_type": "code",
   "execution_count": 22,
   "metadata": {},
   "outputs": [],
   "source": [
    "A=np.array([[2,3], [3,-6]])"
   ]
  },
  {
   "cell_type": "code",
   "execution_count": 23,
   "metadata": {},
   "outputs": [
    {
     "data": {
      "text/plain": [
       "array([[ 2,  3],\n",
       "       [ 3, -6]])"
      ]
     },
     "execution_count": 23,
     "metadata": {},
     "output_type": "execute_result"
    }
   ],
   "source": [
    "A"
   ]
  },
  {
   "cell_type": "code",
   "execution_count": 25,
   "metadata": {
    "colab": {
     "base_uri": "https://localhost:8080/"
    },
    "executionInfo": {
     "elapsed": 2529,
     "status": "ok",
     "timestamp": 1620779794691,
     "user": {
      "displayName": "﻿안재윤(전임교원/통계학과)",
      "photoUrl": "",
      "userId": "02619146530199681853"
     },
     "user_tz": -540
    },
    "id": "RG7oA0kE-7Fq",
    "outputId": "ab476c3a-2d77-40f5-8f1e-990e67a60dec"
   },
   "outputs": [],
   "source": [
    "eigenvalue_A,eigenvector_A=np.linalg.eig(A)"
   ]
  },
  {
   "cell_type": "code",
   "execution_count": 32,
   "metadata": {},
   "outputs": [],
   "source": [
    "v1_A, v2_A = eigenvector_A[:, 0], eigenvector_A[:, 1]"
   ]
  },
  {
   "cell_type": "code",
   "execution_count": 33,
   "metadata": {},
   "outputs": [
    {
     "data": {
      "text/plain": [
       "array([0.9486833 , 0.31622777])"
      ]
     },
     "execution_count": 33,
     "metadata": {},
     "output_type": "execute_result"
    }
   ],
   "source": [
    "v1_A"
   ]
  },
  {
   "cell_type": "code",
   "execution_count": 34,
   "metadata": {},
   "outputs": [
    {
     "data": {
      "text/plain": [
       "array([-0.31622777,  0.9486833 ])"
      ]
     },
     "execution_count": 34,
     "metadata": {},
     "output_type": "execute_result"
    }
   ],
   "source": [
    "v2_A"
   ]
  },
  {
   "cell_type": "code",
   "execution_count": 35,
   "metadata": {
    "colab": {
     "base_uri": "https://localhost:8080/"
    },
    "executionInfo": {
     "elapsed": 601,
     "status": "ok",
     "timestamp": 1620779872204,
     "user": {
      "displayName": "﻿안재윤(전임교원/통계학과)",
      "photoUrl": "",
      "userId": "02619146530199681853"
     },
     "user_tz": -540
    },
    "id": "gwg7ZFKjARoS",
    "outputId": "d8685885-8bcb-4dab-e822-77014114b7fd"
   },
   "outputs": [
    {
     "name": "stdout",
     "output_type": "stream",
     "text": [
      "[2.84604989 0.9486833 ] [2.84604989 0.9486833 ]\n"
     ]
    }
   ],
   "source": [
    "print(A@v1_A, eigenvalues[0]*v1_A)"
   ]
  },
  {
   "cell_type": "code",
   "execution_count": 36,
   "metadata": {},
   "outputs": [
    {
     "name": "stdout",
     "output_type": "stream",
     "text": [
      "[ 2.21359436 -6.64078309] [ 2.21359436 -6.64078309]\n"
     ]
    }
   ],
   "source": [
    "print(A@v2_A, eigenvalues[1]*v2_A)"
   ]
  },
  {
   "cell_type": "code",
   "execution_count": 37,
   "metadata": {},
   "outputs": [],
   "source": [
    "B=np.array([[5,2,-3],[2,5,4],[0,0,6]])"
   ]
  },
  {
   "cell_type": "code",
   "execution_count": 39,
   "metadata": {},
   "outputs": [],
   "source": [
    "eigenvalue_B,eigenvector_B=np.linalg.eig(B)"
   ]
  },
  {
   "cell_type": "code",
   "execution_count": 40,
   "metadata": {},
   "outputs": [
    {
     "name": "stdout",
     "output_type": "stream",
     "text": [
      "[[4.94974747]\n",
      " [4.94974747]\n",
      " [0.        ]] [[2.12132034]\n",
      " [2.12132034]\n",
      " [0.        ]]\n"
     ]
    }
   ],
   "source": [
    "print(B@eigenvector_B[:,0:1], eigenvalue[0]*eigenvector_B[:,0:1])"
   ]
  },
  {
   "cell_type": "code",
   "execution_count": null,
   "metadata": {},
   "outputs": [],
   "source": []
  },
  {
   "cell_type": "code",
   "execution_count": null,
   "metadata": {},
   "outputs": [],
   "source": []
  },
  {
   "cell_type": "markdown",
   "metadata": {
    "id": "71nX3zIS-6_o"
   },
   "source": []
  },
  {
   "cell_type": "markdown",
   "metadata": {
    "id": "Bex6JGzPyx0I"
   },
   "source": [
    "Example> You are given \n",
    "\n",
    "$A=\\left(\n",
    "  \\begin{array}{ccc}\n",
    "    3 & -2 & 4 \\\\\n",
    "    -2 & 6 & 2 \\\\\n",
    "    4 & 2 & 3\n",
    "  \\end{array}\n",
    "\\right)$\n",
    "\n",
    "1> Calculate eigenvalues and eigenvectors.\n",
    "\n",
    "2> Using the eigenvalues and eigenvectors in 1>, find $\\Lambda$ and $S$ such that\n",
    "\n",
    "$A=S \\Lambda S^{-1}$.\n",
    "\n",
    "3> Using the eigenvalues and eigenvectors in 1>, find $\\Lambda$ and $P$ such that\n",
    "\n",
    "$A=P \\Lambda P^T$.\n",
    "\n",
    "Hint: use np.linalg.eigh(A)\n",
    "\n",
    "4> Confirm the result in 3> by calculating $P^T A P$.\n",
    "\n",
    "5> By Theorem 10.16, $A$ can be expressed as \n",
    "\n",
    "$A= \\lambda_1 u_1u_1^T+\\cdots+\\lambda_n u_nu_n^T$. \n",
    "\n",
    "Check this formula in this example."
   ]
  },
  {
   "cell_type": "code",
   "execution_count": 11,
   "metadata": {
    "colab": {
     "base_uri": "https://localhost:8080/"
    },
    "executionInfo": {
     "elapsed": 593,
     "status": "ok",
     "timestamp": 1620780221430,
     "user": {
      "displayName": "﻿안재윤(전임교원/통계학과)",
      "photoUrl": "",
      "userId": "02619146530199681853"
     },
     "user_tz": -540
    },
    "id": "m9yLesDdm7ha",
    "outputId": "6ce80e5c-be03-4355-d23d-77cb74909ff2"
   },
   "outputs": [
    {
     "data": {
      "text/plain": [
       "array([ 7., -2.,  7.])"
      ]
     },
     "execution_count": 11,
     "metadata": {
      "tags": []
     },
     "output_type": "execute_result"
    }
   ],
   "source": [
    "#np.linalg.eigh(A)가 orthogonal eigenvectors 구해준다"
   ]
  },
  {
   "cell_type": "code",
   "execution_count": 42,
   "metadata": {},
   "outputs": [],
   "source": [
    "C=np.array([[3,-2,4],[-2,6,2],[4,2,3]])"
   ]
  },
  {
   "cell_type": "code",
   "execution_count": 44,
   "metadata": {},
   "outputs": [],
   "source": [
    "eigenvalue_C, eigenvector_C=np.linalg.eigh(C)"
   ]
  },
  {
   "cell_type": "code",
   "execution_count": 45,
   "metadata": {},
   "outputs": [],
   "source": [
    "S=eigenvector_C"
   ]
  },
  {
   "cell_type": "code",
   "execution_count": null,
   "metadata": {},
   "outputs": [],
   "source": [
    "#orthogonal 확인...놓침..."
   ]
  },
  {
   "cell_type": "code",
   "execution_count": null,
   "metadata": {},
   "outputs": [],
   "source": []
  },
  {
   "cell_type": "markdown",
   "metadata": {
    "id": "GToB23Su2MSQ"
   },
   "source": [
    "Theorem 10.16> Let $A$ be a $n \\times n$ symmetric matrix with eigenvalues $\\lambda_1, \\cdots, \\lambda_n$ then the corresponding (unit) orthogonal eigenvectors $u_1, \\cdots, u_n$."
   ]
  },
  {
   "cell_type": "code",
   "execution_count": null,
   "metadata": {
    "id": "Ta7DEezDlwhH"
   },
   "outputs": [],
   "source": [
    "import keras \n",
    "mnist = keras.datasets.mnist\n",
    "from sklearn.decomposition import PCA\n"
   ]
  },
  {
   "cell_type": "code",
   "execution_count": null,
   "metadata": {
    "colab": {
     "base_uri": "https://localhost:8080/"
    },
    "executionInfo": {
     "elapsed": 3233,
     "status": "ok",
     "timestamp": 1620629789234,
     "user": {
      "displayName": "﻿안재윤(전임교원/통계학과)",
      "photoUrl": "",
      "userId": "02619146530199681853"
     },
     "user_tz": -540
    },
    "id": "KBvbE5mzmHSN",
    "outputId": "dcef7c30-b9f7-4d96-e5f4-83ca13266929"
   },
   "outputs": [
    {
     "name": "stdout",
     "output_type": "stream",
     "text": [
      "Downloading data from https://storage.googleapis.com/tensorflow/tf-keras-datasets/mnist.npz\n",
      "11493376/11490434 [==============================] - 0s 0us/step\n"
     ]
    }
   ],
   "source": [
    "(X_train, y_train), (X_test, y_test) = mnist.load_data()"
   ]
  },
  {
   "cell_type": "code",
   "execution_count": null,
   "metadata": {
    "colab": {
     "base_uri": "https://localhost:8080/"
    },
    "executionInfo": {
     "elapsed": 2798,
     "status": "ok",
     "timestamp": 1620629789235,
     "user": {
      "displayName": "﻿안재윤(전임교원/통계학과)",
      "photoUrl": "",
      "userId": "02619146530199681853"
     },
     "user_tz": -540
    },
    "id": "OjAzLwh85ZgX",
    "outputId": "b1fdd93e-f098-49d5-947e-368ca417ac5b"
   },
   "outputs": [
    {
     "data": {
      "text/plain": [
       "(60000, 28, 28)"
      ]
     },
     "execution_count": 12,
     "metadata": {
      "tags": []
     },
     "output_type": "execute_result"
    }
   ],
   "source": [
    "X_train.shape"
   ]
  },
  {
   "cell_type": "code",
   "execution_count": null,
   "metadata": {
    "id": "7smwqnihmYoC"
   },
   "outputs": [],
   "source": [
    "X_train_flatten = X_train.reshape(X_train.shape[0], 28*28)"
   ]
  },
  {
   "cell_type": "code",
   "execution_count": null,
   "metadata": {
    "id": "3N8jOgsZmW5r"
   },
   "outputs": [],
   "source": [
    "from matplotlib import pyplot as plt\n"
   ]
  },
  {
   "cell_type": "code",
   "execution_count": null,
   "metadata": {
    "colab": {
     "base_uri": "https://localhost:8080/"
    },
    "executionInfo": {
     "elapsed": 1723,
     "status": "ok",
     "timestamp": 1620629789519,
     "user": {
      "displayName": "﻿안재윤(전임교원/통계학과)",
      "photoUrl": "",
      "userId": "02619146530199681853"
     },
     "user_tz": -540
    },
    "id": "sdPsHkGb6DRO",
    "outputId": "f12e05f8-c7d6-452a-da6d-33de451bb5dc"
   },
   "outputs": [
    {
     "data": {
      "text/plain": [
       "array([[  0,   0,   0,   0,   0,   0,   0,   0,   0,   0,   0,   0,   0,\n",
       "          0,   0,   0,   0,   0,   0,   0,   0,   0,   0,   0,   0,   0,\n",
       "          0,   0],\n",
       "       [  0,   0,   0,   0,   0,   0,   0,   0,   0,   0,   0,   0,   0,\n",
       "          0,   0,   0,   0,   0,   0,   0,   0,   0,   0,   0,   0,   0,\n",
       "          0,   0],\n",
       "       [  0,   0,   0,   0,   0,   0,   0,   0,   0,   0,   0,   0,   0,\n",
       "          0,   0,   0,   0,   0,   0,   0,   0,   0,   0,   0,   0,   0,\n",
       "          0,   0],\n",
       "       [  0,   0,   0,   0,   0,   0,   0,   0,   0,   0,   0,   0,   0,\n",
       "          0,   0,   0,   0,   0,   0,   0,   0,   0,   0,   0,   0,   0,\n",
       "          0,   0],\n",
       "       [  0,   0,   0,   0,   0,   0,   0,   0,   0,   0,   0,   0,   0,\n",
       "          0,   0,   0,   0,   0,   0,   0,   0,   0,   0,   0,   0,   0,\n",
       "          0,   0],\n",
       "       [  0,   0,   0,   0,   0,   0,   0,   0,   0,   0,   0,   0,   3,\n",
       "         18,  18,  18, 126, 136, 175,  26, 166, 255, 247, 127,   0,   0,\n",
       "          0,   0],\n",
       "       [  0,   0,   0,   0,   0,   0,   0,   0,  30,  36,  94, 154, 170,\n",
       "        253, 253, 253, 253, 253, 225, 172, 253, 242, 195,  64,   0,   0,\n",
       "          0,   0],\n",
       "       [  0,   0,   0,   0,   0,   0,   0,  49, 238, 253, 253, 253, 253,\n",
       "        253, 253, 253, 253, 251,  93,  82,  82,  56,  39,   0,   0,   0,\n",
       "          0,   0],\n",
       "       [  0,   0,   0,   0,   0,   0,   0,  18, 219, 253, 253, 253, 253,\n",
       "        253, 198, 182, 247, 241,   0,   0,   0,   0,   0,   0,   0,   0,\n",
       "          0,   0],\n",
       "       [  0,   0,   0,   0,   0,   0,   0,   0,  80, 156, 107, 253, 253,\n",
       "        205,  11,   0,  43, 154,   0,   0,   0,   0,   0,   0,   0,   0,\n",
       "          0,   0],\n",
       "       [  0,   0,   0,   0,   0,   0,   0,   0,   0,  14,   1, 154, 253,\n",
       "         90,   0,   0,   0,   0,   0,   0,   0,   0,   0,   0,   0,   0,\n",
       "          0,   0],\n",
       "       [  0,   0,   0,   0,   0,   0,   0,   0,   0,   0,   0, 139, 253,\n",
       "        190,   2,   0,   0,   0,   0,   0,   0,   0,   0,   0,   0,   0,\n",
       "          0,   0],\n",
       "       [  0,   0,   0,   0,   0,   0,   0,   0,   0,   0,   0,  11, 190,\n",
       "        253,  70,   0,   0,   0,   0,   0,   0,   0,   0,   0,   0,   0,\n",
       "          0,   0],\n",
       "       [  0,   0,   0,   0,   0,   0,   0,   0,   0,   0,   0,   0,  35,\n",
       "        241, 225, 160, 108,   1,   0,   0,   0,   0,   0,   0,   0,   0,\n",
       "          0,   0],\n",
       "       [  0,   0,   0,   0,   0,   0,   0,   0,   0,   0,   0,   0,   0,\n",
       "         81, 240, 253, 253, 119,  25,   0,   0,   0,   0,   0,   0,   0,\n",
       "          0,   0],\n",
       "       [  0,   0,   0,   0,   0,   0,   0,   0,   0,   0,   0,   0,   0,\n",
       "          0,  45, 186, 253, 253, 150,  27,   0,   0,   0,   0,   0,   0,\n",
       "          0,   0],\n",
       "       [  0,   0,   0,   0,   0,   0,   0,   0,   0,   0,   0,   0,   0,\n",
       "          0,   0,  16,  93, 252, 253, 187,   0,   0,   0,   0,   0,   0,\n",
       "          0,   0],\n",
       "       [  0,   0,   0,   0,   0,   0,   0,   0,   0,   0,   0,   0,   0,\n",
       "          0,   0,   0,   0, 249, 253, 249,  64,   0,   0,   0,   0,   0,\n",
       "          0,   0],\n",
       "       [  0,   0,   0,   0,   0,   0,   0,   0,   0,   0,   0,   0,   0,\n",
       "          0,  46, 130, 183, 253, 253, 207,   2,   0,   0,   0,   0,   0,\n",
       "          0,   0],\n",
       "       [  0,   0,   0,   0,   0,   0,   0,   0,   0,   0,   0,   0,  39,\n",
       "        148, 229, 253, 253, 253, 250, 182,   0,   0,   0,   0,   0,   0,\n",
       "          0,   0],\n",
       "       [  0,   0,   0,   0,   0,   0,   0,   0,   0,   0,  24, 114, 221,\n",
       "        253, 253, 253, 253, 201,  78,   0,   0,   0,   0,   0,   0,   0,\n",
       "          0,   0],\n",
       "       [  0,   0,   0,   0,   0,   0,   0,   0,  23,  66, 213, 253, 253,\n",
       "        253, 253, 198,  81,   2,   0,   0,   0,   0,   0,   0,   0,   0,\n",
       "          0,   0],\n",
       "       [  0,   0,   0,   0,   0,   0,  18, 171, 219, 253, 253, 253, 253,\n",
       "        195,  80,   9,   0,   0,   0,   0,   0,   0,   0,   0,   0,   0,\n",
       "          0,   0],\n",
       "       [  0,   0,   0,   0,  55, 172, 226, 253, 253, 253, 253, 244, 133,\n",
       "         11,   0,   0,   0,   0,   0,   0,   0,   0,   0,   0,   0,   0,\n",
       "          0,   0],\n",
       "       [  0,   0,   0,   0, 136, 253, 253, 253, 212, 135, 132,  16,   0,\n",
       "          0,   0,   0,   0,   0,   0,   0,   0,   0,   0,   0,   0,   0,\n",
       "          0,   0],\n",
       "       [  0,   0,   0,   0,   0,   0,   0,   0,   0,   0,   0,   0,   0,\n",
       "          0,   0,   0,   0,   0,   0,   0,   0,   0,   0,   0,   0,   0,\n",
       "          0,   0],\n",
       "       [  0,   0,   0,   0,   0,   0,   0,   0,   0,   0,   0,   0,   0,\n",
       "          0,   0,   0,   0,   0,   0,   0,   0,   0,   0,   0,   0,   0,\n",
       "          0,   0],\n",
       "       [  0,   0,   0,   0,   0,   0,   0,   0,   0,   0,   0,   0,   0,\n",
       "          0,   0,   0,   0,   0,   0,   0,   0,   0,   0,   0,   0,   0,\n",
       "          0,   0]], dtype=uint8)"
      ]
     },
     "execution_count": 15,
     "metadata": {
      "tags": []
     },
     "output_type": "execute_result"
    }
   ],
   "source": [
    "X_train_flatten[0,:].reshape(28,28)"
   ]
  },
  {
   "cell_type": "code",
   "execution_count": null,
   "metadata": {
    "colab": {
     "base_uri": "https://localhost:8080/",
     "height": 283
    },
    "executionInfo": {
     "elapsed": 1433,
     "status": "ok",
     "timestamp": 1620629789519,
     "user": {
      "displayName": "﻿안재윤(전임교원/통계학과)",
      "photoUrl": "",
      "userId": "02619146530199681853"
     },
     "user_tz": -540
    },
    "id": "WugMl63s5tOg",
    "outputId": "65daf955-3366-473f-ec06-7e5b7b6ae050"
   },
   "outputs": [
    {
     "data": {
      "text/plain": [
       "<matplotlib.image.AxesImage at 0x7f48cd0c6890>"
      ]
     },
     "execution_count": 16,
     "metadata": {
      "tags": []
     },
     "output_type": "execute_result"
    },
    {
     "data": {
      "image/png": "[encoded data removed]",
      "text/plain": [
       "<Figure size 432x288 with 1 Axes>"
      ]
     },
     "metadata": {
      "needs_background": "light",
      "tags": []
     },
     "output_type": "display_data"
    }
   ],
   "source": [
    "plt.imshow(X_train_flatten[0,:].reshape(28,28))"
   ]
  },
  {
   "cell_type": "code",
   "execution_count": null,
   "metadata": {
    "colab": {
     "base_uri": "https://localhost:8080/"
    },
    "executionInfo": {
     "elapsed": 752,
     "status": "ok",
     "timestamp": 1620629789804,
     "user": {
      "displayName": "﻿안재윤(전임교원/통계학과)",
      "photoUrl": "",
      "userId": "02619146530199681853"
     },
     "user_tz": -540
    },
    "id": "X_wmriXVm7hb",
    "outputId": "b8aa06aa-4df0-46b4-bbe4-b210a79edcf2"
   },
   "outputs": [
    {
     "data": {
      "text/plain": [
       "5"
      ]
     },
     "execution_count": 17,
     "metadata": {
      "tags": []
     },
     "output_type": "execute_result"
    }
   ],
   "source": [
    "y_train[0]"
   ]
  },
  {
   "cell_type": "code",
   "execution_count": null,
   "metadata": {
    "colab": {
     "base_uri": "https://localhost:8080/"
    },
    "executionInfo": {
     "elapsed": 7915,
     "status": "ok",
     "timestamp": 1620630954886,
     "user": {
      "displayName": "﻿안재윤(전임교원/통계학과)",
      "photoUrl": "",
      "userId": "02619146530199681853"
     },
     "user_tz": -540
    },
    "id": "fbIwGW0onSAT",
    "outputId": "3ee0cb59-f77e-4d79-b70f-65fed28e3d53"
   },
   "outputs": [
    {
     "data": {
      "text/plain": [
       "(60000, 100)"
      ]
     },
     "execution_count": 30,
     "metadata": {
      "tags": []
     },
     "output_type": "execute_result"
    }
   ],
   "source": [
    "pca = PCA(n_components=100)\n",
    "X_train_flatten_reduced = pca.fit_transform(X_train_flatten)\n",
    "X_train_flatten_reduced.shape"
   ]
  },
  {
   "cell_type": "code",
   "execution_count": null,
   "metadata": {
    "colab": {
     "base_uri": "https://localhost:8080/",
     "height": 283
    },
    "executionInfo": {
     "elapsed": 8322,
     "status": "ok",
     "timestamp": 1620630955582,
     "user": {
      "displayName": "﻿안재윤(전임교원/통계학과)",
      "photoUrl": "",
      "userId": "02619146530199681853"
     },
     "user_tz": -540
    },
    "id": "p4woJjDS8Jtv",
    "outputId": "cb40b316-60a9-4437-b201-701199b822bc"
   },
   "outputs": [
    {
     "data": {
      "text/plain": [
       "<matplotlib.image.AxesImage at 0x7f48c8cf9350>"
      ]
     },
     "execution_count": 31,
     "metadata": {
      "tags": []
     },
     "output_type": "execute_result"
    },
    {
     "data": {
      "image/png": "[encoded data removed]",
      "text/plain": [
       "<Figure size 432x288 with 1 Axes>"
      ]
     },
     "metadata": {
      "needs_background": "light",
      "tags": []
     },
     "output_type": "display_data"
    }
   ],
   "source": [
    "X_train_flatten_recovered = pca.inverse_transform(X_train_flatten_reduced)\n",
    "plt.imshow(X_train_flatten_recovered[0,:].reshape(28,28))"
   ]
  },
  {
   "cell_type": "code",
   "execution_count": null,
   "metadata": {
    "id": "x_Ij-KbIm7hb"
   },
   "outputs": [],
   "source": []
  },
  {
   "cell_type": "code",
   "execution_count": null,
   "metadata": {
    "colab": {
     "base_uri": "https://localhost:8080/"
    },
    "executionInfo": {
     "elapsed": 592,
     "status": "ok",
     "timestamp": 1618810376453,
     "user": {
      "displayName": "﻿안재윤(전임교원/통계학과)",
      "photoUrl": "",
      "userId": "02619146530199681853"
     },
     "user_tz": -540
    },
    "id": "Y-X3bfvdnf5T",
    "outputId": "4d9036fe-4648-4bdd-a3bb-e551f178a5cc"
   },
   "outputs": [
    {
     "data": {
      "text/plain": [
       "10"
      ]
     },
     "execution_count": 56,
     "metadata": {
      "tags": []
     },
     "output_type": "execute_result"
    }
   ],
   "source": []
  }
 ],
 "metadata": {
  "colab": {
   "collapsed_sections": [],
   "name": "Eigenvealue_ahn.ipynb",
   "provenance": []
  },
  "kernelspec": {
   "display_name": "Python 3",
   "language": "python",
   "name": "python3"
  },
  "language_info": {
   "codemirror_mode": {
    "name": "ipython",
    "version": 3
   },
   "file_extension": ".py",
   "mimetype": "text/x-python",
   "name": "python",
   "nbconvert_exporter": "python",
   "pygments_lexer": "ipython3",
   "version": "3.8.5"
  }
 },
 "nbformat": 4,
 "nbformat_minor": 1
}
