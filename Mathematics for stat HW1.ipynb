{
 "cells": [
  {
   "cell_type": "markdown",
   "metadata": {},
   "source": [
    "##HW1 Python Study (codeacademy: Learn Python 3)"
   ]
  },
  {
   "cell_type": "markdown",
   "metadata": {},
   "source": [
    "1. Hello World"
   ]
  },
  {
   "cell_type": "code",
   "execution_count": null,
   "metadata": {},
   "outputs": [],
   "source": [
    "1-(1) comments"
   ]
  },
  {
   "cell_type": "markdown",
   "metadata": {},
   "source": [
    "코멘트는 '#'을 사용해서 코딩이 안돌아가 가도록 표시."
   ]
  },
  {
   "cell_type": "code",
   "execution_count": null,
   "metadata": {},
   "outputs": [],
   "source": [
    "#This variable will be used to...\n",
    "persnickety_count=0\n",
    "#This code will calculate the...\n",
    "complicated_rain_caculation_for_tomorrow()\n",
    "#useful_value=old_sloppy_code()\n",
    "useful_value=new_clean_code()"
   ]
  },
  {
   "cell_type": "markdown",
   "metadata": {},
   "source": [
    "1-(2) print"
   ]
  },
  {
   "cell_type": "markdown",
   "metadata": {},
   "source": [
    "print로 문장 등을 출력할 수 있음."
   ]
  },
  {
   "cell_type": "code",
   "execution_count": 2,
   "metadata": {},
   "outputs": [
    {
     "name": "stdout",
     "output_type": "stream",
     "text": [
      "There is something at work in my soul\n"
     ]
    }
   ],
   "source": [
    "print(\"There is something at work in my soul\")"
   ]
  },
  {
   "cell_type": "code",
   "execution_count": null,
   "metadata": {},
   "outputs": [],
   "source": []
  }
 ],
 "metadata": {
  "kernelspec": {
   "display_name": "Python 3",
   "language": "python",
   "name": "python3"
  },
  "language_info": {
   "codemirror_mode": {
    "name": "ipython",
    "version": 3
   },
   "file_extension": ".py",
   "mimetype": "text/x-python",
   "name": "python",
   "nbconvert_exporter": "python",
   "pygments_lexer": "ipython3",
   "version": "3.8.5"
  }
 },
 "nbformat": 4,
 "nbformat_minor": 4
}
